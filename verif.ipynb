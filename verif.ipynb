{
 "cells": [
  {
   "cell_type": "code",
   "execution_count": 1,
   "metadata": {},
   "outputs": [
    {
     "name": "stderr",
     "output_type": "stream",
     "text": [
      "/var/folders/29/b5c1yt011fq4tgt0nbpt85lw0000gn/T/ipykernel_8595/2953552674.py:7: FutureWarning: The frame.append method is deprecated and will be removed from pandas in a future version. Use pandas.concat instead.\n",
      "  df_ags = df_ags.append(ags.__dict__, ignore_index=True)\n",
      "/var/folders/29/b5c1yt011fq4tgt0nbpt85lw0000gn/T/ipykernel_8595/2953552674.py:7: FutureWarning: The frame.append method is deprecated and will be removed from pandas in a future version. Use pandas.concat instead.\n",
      "  df_ags = df_ags.append(ags.__dict__, ignore_index=True)\n",
      "/var/folders/29/b5c1yt011fq4tgt0nbpt85lw0000gn/T/ipykernel_8595/2953552674.py:7: FutureWarning: The frame.append method is deprecated and will be removed from pandas in a future version. Use pandas.concat instead.\n",
      "  df_ags = df_ags.append(ags.__dict__, ignore_index=True)\n",
      "/var/folders/29/b5c1yt011fq4tgt0nbpt85lw0000gn/T/ipykernel_8595/2953552674.py:7: FutureWarning: The frame.append method is deprecated and will be removed from pandas in a future version. Use pandas.concat instead.\n",
      "  df_ags = df_ags.append(ags.__dict__, ignore_index=True)\n",
      "/var/folders/29/b5c1yt011fq4tgt0nbpt85lw0000gn/T/ipykernel_8595/2953552674.py:7: FutureWarning: The frame.append method is deprecated and will be removed from pandas in a future version. Use pandas.concat instead.\n",
      "  df_ags = df_ags.append(ags.__dict__, ignore_index=True)\n",
      "/var/folders/29/b5c1yt011fq4tgt0nbpt85lw0000gn/T/ipykernel_8595/2953552674.py:7: FutureWarning: The frame.append method is deprecated and will be removed from pandas in a future version. Use pandas.concat instead.\n",
      "  df_ags = df_ags.append(ags.__dict__, ignore_index=True)\n",
      "/var/folders/29/b5c1yt011fq4tgt0nbpt85lw0000gn/T/ipykernel_8595/2953552674.py:7: FutureWarning: The frame.append method is deprecated and will be removed from pandas in a future version. Use pandas.concat instead.\n",
      "  df_ags = df_ags.append(ags.__dict__, ignore_index=True)\n",
      "/var/folders/29/b5c1yt011fq4tgt0nbpt85lw0000gn/T/ipykernel_8595/2953552674.py:7: FutureWarning: The frame.append method is deprecated and will be removed from pandas in a future version. Use pandas.concat instead.\n",
      "  df_ags = df_ags.append(ags.__dict__, ignore_index=True)\n",
      "/var/folders/29/b5c1yt011fq4tgt0nbpt85lw0000gn/T/ipykernel_8595/2953552674.py:7: FutureWarning: The frame.append method is deprecated and will be removed from pandas in a future version. Use pandas.concat instead.\n",
      "  df_ags = df_ags.append(ags.__dict__, ignore_index=True)\n",
      "/var/folders/29/b5c1yt011fq4tgt0nbpt85lw0000gn/T/ipykernel_8595/2953552674.py:7: FutureWarning: The frame.append method is deprecated and will be removed from pandas in a future version. Use pandas.concat instead.\n",
      "  df_ags = df_ags.append(ags.__dict__, ignore_index=True)\n",
      "/var/folders/29/b5c1yt011fq4tgt0nbpt85lw0000gn/T/ipykernel_8595/2953552674.py:7: FutureWarning: The frame.append method is deprecated and will be removed from pandas in a future version. Use pandas.concat instead.\n",
      "  df_ags = df_ags.append(ags.__dict__, ignore_index=True)\n",
      "/var/folders/29/b5c1yt011fq4tgt0nbpt85lw0000gn/T/ipykernel_8595/2953552674.py:7: FutureWarning: The frame.append method is deprecated and will be removed from pandas in a future version. Use pandas.concat instead.\n",
      "  df_ags = df_ags.append(ags.__dict__, ignore_index=True)\n",
      "/var/folders/29/b5c1yt011fq4tgt0nbpt85lw0000gn/T/ipykernel_8595/2953552674.py:7: FutureWarning: The frame.append method is deprecated and will be removed from pandas in a future version. Use pandas.concat instead.\n",
      "  df_ags = df_ags.append(ags.__dict__, ignore_index=True)\n",
      "/var/folders/29/b5c1yt011fq4tgt0nbpt85lw0000gn/T/ipykernel_8595/2953552674.py:7: FutureWarning: The frame.append method is deprecated and will be removed from pandas in a future version. Use pandas.concat instead.\n",
      "  df_ags = df_ags.append(ags.__dict__, ignore_index=True)\n",
      "/var/folders/29/b5c1yt011fq4tgt0nbpt85lw0000gn/T/ipykernel_8595/2953552674.py:7: FutureWarning: The frame.append method is deprecated and will be removed from pandas in a future version. Use pandas.concat instead.\n",
      "  df_ags = df_ags.append(ags.__dict__, ignore_index=True)\n",
      "/var/folders/29/b5c1yt011fq4tgt0nbpt85lw0000gn/T/ipykernel_8595/2953552674.py:7: FutureWarning: The frame.append method is deprecated and will be removed from pandas in a future version. Use pandas.concat instead.\n",
      "  df_ags = df_ags.append(ags.__dict__, ignore_index=True)\n",
      "/var/folders/29/b5c1yt011fq4tgt0nbpt85lw0000gn/T/ipykernel_8595/2953552674.py:7: FutureWarning: The frame.append method is deprecated and will be removed from pandas in a future version. Use pandas.concat instead.\n",
      "  df_ags = df_ags.append(ags.__dict__, ignore_index=True)\n",
      "/var/folders/29/b5c1yt011fq4tgt0nbpt85lw0000gn/T/ipykernel_8595/2953552674.py:7: FutureWarning: The frame.append method is deprecated and will be removed from pandas in a future version. Use pandas.concat instead.\n",
      "  df_ags = df_ags.append(ags.__dict__, ignore_index=True)\n",
      "/var/folders/29/b5c1yt011fq4tgt0nbpt85lw0000gn/T/ipykernel_8595/2953552674.py:7: FutureWarning: The frame.append method is deprecated and will be removed from pandas in a future version. Use pandas.concat instead.\n",
      "  df_ags = df_ags.append(ags.__dict__, ignore_index=True)\n",
      "/var/folders/29/b5c1yt011fq4tgt0nbpt85lw0000gn/T/ipykernel_8595/2953552674.py:7: FutureWarning: The frame.append method is deprecated and will be removed from pandas in a future version. Use pandas.concat instead.\n",
      "  df_ags = df_ags.append(ags.__dict__, ignore_index=True)\n",
      "/var/folders/29/b5c1yt011fq4tgt0nbpt85lw0000gn/T/ipykernel_8595/2953552674.py:7: FutureWarning: The frame.append method is deprecated and will be removed from pandas in a future version. Use pandas.concat instead.\n",
      "  df_ags = df_ags.append(ags.__dict__, ignore_index=True)\n",
      "/var/folders/29/b5c1yt011fq4tgt0nbpt85lw0000gn/T/ipykernel_8595/2953552674.py:7: FutureWarning: The frame.append method is deprecated and will be removed from pandas in a future version. Use pandas.concat instead.\n",
      "  df_ags = df_ags.append(ags.__dict__, ignore_index=True)\n",
      "/var/folders/29/b5c1yt011fq4tgt0nbpt85lw0000gn/T/ipykernel_8595/2953552674.py:7: FutureWarning: The frame.append method is deprecated and will be removed from pandas in a future version. Use pandas.concat instead.\n",
      "  df_ags = df_ags.append(ags.__dict__, ignore_index=True)\n",
      "/var/folders/29/b5c1yt011fq4tgt0nbpt85lw0000gn/T/ipykernel_8595/2953552674.py:7: FutureWarning: The frame.append method is deprecated and will be removed from pandas in a future version. Use pandas.concat instead.\n",
      "  df_ags = df_ags.append(ags.__dict__, ignore_index=True)\n",
      "/var/folders/29/b5c1yt011fq4tgt0nbpt85lw0000gn/T/ipykernel_8595/2953552674.py:7: FutureWarning: The frame.append method is deprecated and will be removed from pandas in a future version. Use pandas.concat instead.\n",
      "  df_ags = df_ags.append(ags.__dict__, ignore_index=True)\n",
      "/var/folders/29/b5c1yt011fq4tgt0nbpt85lw0000gn/T/ipykernel_8595/2953552674.py:7: FutureWarning: The frame.append method is deprecated and will be removed from pandas in a future version. Use pandas.concat instead.\n",
      "  df_ags = df_ags.append(ags.__dict__, ignore_index=True)\n",
      "/var/folders/29/b5c1yt011fq4tgt0nbpt85lw0000gn/T/ipykernel_8595/2953552674.py:7: FutureWarning: The frame.append method is deprecated and will be removed from pandas in a future version. Use pandas.concat instead.\n",
      "  df_ags = df_ags.append(ags.__dict__, ignore_index=True)\n"
     ]
    },
    {
     "data": {
      "text/html": [
       "<div>\n",
       "<style scoped>\n",
       "    .dataframe tbody tr th:only-of-type {\n",
       "        vertical-align: middle;\n",
       "    }\n",
       "\n",
       "    .dataframe tbody tr th {\n",
       "        vertical-align: top;\n",
       "    }\n",
       "\n",
       "    .dataframe thead th {\n",
       "        text-align: right;\n",
       "    }\n",
       "</style>\n",
       "<table border=\"1\" class=\"dataframe\">\n",
       "  <thead>\n",
       "    <tr style=\"text-align: right;\">\n",
       "      <th></th>\n",
       "      <th>name</th>\n",
       "      <th>instant_str</th>\n",
       "      <th>file_path</th>\n",
       "      <th>metadata</th>\n",
       "      <th>value</th>\n",
       "    </tr>\n",
       "  </thead>\n",
       "  <tbody>\n",
       "    <tr>\n",
       "      <th>0</th>\n",
       "      <td>prelevements_sociaux.cotisations_regime_assura...</td>\n",
       "      <td>2017-07-01</td>\n",
       "      <td>/Users/ahmedz/leximpact/source/openfisca-franc...</td>\n",
       "      <td>{}</td>\n",
       "      <td>0.0015</td>\n",
       "    </tr>\n",
       "    <tr>\n",
       "      <th>1</th>\n",
       "      <td>prelevements_sociaux.cotisations_regime_assura...</td>\n",
       "      <td>2017-01-01</td>\n",
       "      <td>/Users/ahmedz/leximpact/source/openfisca-franc...</td>\n",
       "      <td>{}</td>\n",
       "      <td>0.0020</td>\n",
       "    </tr>\n",
       "  </tbody>\n",
       "</table>\n",
       "</div>"
      ],
      "text/plain": [
       "                                                name instant_str  \\\n",
       "0  prelevements_sociaux.cotisations_regime_assura...  2017-07-01   \n",
       "1  prelevements_sociaux.cotisations_regime_assura...  2017-01-01   \n",
       "\n",
       "                                           file_path metadata   value  \n",
       "0  /Users/ahmedz/leximpact/source/openfisca-franc...       {}  0.0015  \n",
       "1  /Users/ahmedz/leximpact/source/openfisca-franc...       {}  0.0020  "
      ]
     },
     "execution_count": 1,
     "metadata": {},
     "output_type": "execute_result"
    }
   ],
   "source": [
    "from openfisca_france import FranceTaxBenefitSystem \n",
    "tax_benefit_system = FranceTaxBenefitSystem() \n",
    "import pandas as pd\n"
   ]
  },
  {
   "cell_type": "code",
   "execution_count": 8,
   "metadata": {},
   "outputs": [],
   "source": [
    "# Activate multi-output in notebook\n",
    "from IPython.core.interactiveshell import InteractiveShell\n",
    "\n",
    "InteractiveShell.ast_node_interactivity = \"all\" "
   ]
  },
  {
   "cell_type": "code",
   "execution_count": 10,
   "metadata": {},
   "outputs": [
    {
     "data": {
      "text/plain": [
       "['__abstractmethods__',\n",
       " '__call__',\n",
       " '__class__',\n",
       " '__delattr__',\n",
       " '__dict__',\n",
       " '__dir__',\n",
       " '__doc__',\n",
       " '__eq__',\n",
       " '__format__',\n",
       " '__ge__',\n",
       " '__getattribute__',\n",
       " '__gt__',\n",
       " '__hash__',\n",
       " '__init__',\n",
       " '__init_subclass__',\n",
       " '__le__',\n",
       " '__lt__',\n",
       " '__module__',\n",
       " '__ne__',\n",
       " '__new__',\n",
       " '__reduce__',\n",
       " '__reduce_ex__',\n",
       " '__repr__',\n",
       " '__setattr__',\n",
       " '__sizeof__',\n",
       " '__slotnames__',\n",
       " '__slots__',\n",
       " '__str__',\n",
       " '__subclasshook__',\n",
       " '__weakref__',\n",
       " '_abc_impl',\n",
       " '_get_at_instant',\n",
       " 'clone',\n",
       " 'description',\n",
       " 'documentation',\n",
       " 'file_path',\n",
       " 'get_at_instant',\n",
       " 'get_descendants',\n",
       " 'metadata',\n",
       " 'name',\n",
       " 'update',\n",
       " 'values_history',\n",
       " 'values_list']"
      ]
     },
     "execution_count": 10,
     "metadata": {},
     "output_type": "execute_result"
    },
    {
     "name": "stderr",
     "output_type": "stream",
     "text": [
      "/var/folders/29/b5c1yt011fq4tgt0nbpt85lw0000gn/T/ipykernel_8595/3424303172.py:8: FutureWarning: The frame.append method is deprecated and will be removed from pandas in a future version. Use pandas.concat instead.\n",
      "  df_ags = df_ags.append(ags.__dict__, ignore_index=True)\n"
     ]
    },
    {
     "data": {
      "text/html": [
       "<div>\n",
       "<style scoped>\n",
       "    .dataframe tbody tr th:only-of-type {\n",
       "        vertical-align: middle;\n",
       "    }\n",
       "\n",
       "    .dataframe tbody tr th {\n",
       "        vertical-align: top;\n",
       "    }\n",
       "\n",
       "    .dataframe thead th {\n",
       "        text-align: right;\n",
       "    }\n",
       "</style>\n",
       "<table border=\"1\" class=\"dataframe\">\n",
       "  <thead>\n",
       "    <tr style=\"text-align: right;\">\n",
       "      <th></th>\n",
       "      <th>name</th>\n",
       "      <th>instant_str</th>\n",
       "      <th>file_path</th>\n",
       "      <th>metadata</th>\n",
       "      <th>value</th>\n",
       "    </tr>\n",
       "  </thead>\n",
       "  <tbody>\n",
       "    <tr>\n",
       "      <th>0</th>\n",
       "      <td>prelevements_sociaux.cotisations_regime_assura...</td>\n",
       "      <td>1974-01-01</td>\n",
       "      <td>/Users/ahmedz/leximpact/source/openfisca-franc...</td>\n",
       "      <td>{}</td>\n",
       "      <td>0.0005</td>\n",
       "    </tr>\n",
       "  </tbody>\n",
       "</table>\n",
       "</div>"
      ],
      "text/plain": [
       "                                                name instant_str  \\\n",
       "0  prelevements_sociaux.cotisations_regime_assura...  1974-01-01   \n",
       "\n",
       "                                           file_path metadata   value  \n",
       "0  /Users/ahmedz/leximpact/source/openfisca-franc...       {}  0.0005  "
      ]
     },
     "execution_count": 10,
     "metadata": {},
     "output_type": "execute_result"
    }
   ],
   "source": [
    "df_ags = pd.DataFrame()\n",
    "#ags_list = tax_benefit_system.parameters.prelevements_sociaux.cotisations_regime_assurance_chomage.ags.employeur.ags.brackets[0].rate.values_list\n",
    "ags_list = tax_benefit_system.parameters.prestations_sociales.prestations_familiales.prestations_generales.af.af_cond_ress.plafond_tranche_2\n",
    "dir(ags_list)\n",
    "\n",
    "\n",
    "#/prestations_sociales/prestations_familiales/prestations_generales/af/af_cond_ress/plafond_tranche_2.yaml\n",
    "df_ags = df_ags.append(ags.__dict__, ignore_index=True)\n",
    "df_ags.head(2)"
   ]
  }
 ],
 "metadata": {
  "interpreter": {
   "hash": "e0844781c2098f5826b96de3813b131a3bd20d4a4443a0b8101cc52c1d2ed4db"
  },
  "kernelspec": {
   "display_name": "Python 3.8.10 ('venv_exo': venv)",
   "language": "python",
   "name": "python3"
  },
  "language_info": {
   "codemirror_mode": {
    "name": "ipython",
    "version": 3
   },
   "file_extension": ".py",
   "mimetype": "text/x-python",
   "name": "python",
   "nbconvert_exporter": "python",
   "pygments_lexer": "ipython3",
   "version": "3.8.10"
  },
  "orig_nbformat": 4
 },
 "nbformat": 4,
 "nbformat_minor": 2
}
